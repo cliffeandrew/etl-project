{
 "metadata": {
  "language_info": {
   "codemirror_mode": {
    "name": "ipython",
    "version": 3
   },
   "file_extension": ".py",
   "mimetype": "text/x-python",
   "name": "python",
   "nbconvert_exporter": "python",
   "pygments_lexer": "ipython3",
   "version": "3.6.10-final"
  },
  "orig_nbformat": 2,
  "kernelspec": {
   "name": "python_defaultSpec_1598116221704",
   "display_name": "Python 3.6.10 64-bit ('PythonData': conda)"
  }
 },
 "nbformat": 4,
 "nbformat_minor": 2,
 "cells": [
  {
   "cell_type": "code",
   "execution_count": 94,
   "metadata": {},
   "outputs": [],
   "source": [
    "import pandas as pd\n",
    "import datetime as dt\n",
    "from sqlalchemy import create_engine\n",
    "from config import postgres_password "
   ]
  },
  {
   "cell_type": "code",
   "execution_count": 47,
   "metadata": {},
   "outputs": [],
   "source": [
    "zillow_input_file = '../resources/Zip_zhvi_uc_sfrcondo_tier_0.33_0.67_sm_sa_mon.csv'\n",
    "zillow_data = pd.read_csv(zillow_input_file)\n",
    "#zillow_data.head()"
   ]
  },
  {
   "cell_type": "code",
   "execution_count": 98,
   "metadata": {
    "tags": []
   },
   "outputs": [],
   "source": [
    "column_list = ['RegionName', 'City', 'State', '2017-12-31']\n",
    "\n",
    "zillow_data_2017 = zillow_data[column_list]\n",
    "zillow_data_2017.rename(columns={\n",
    "    'RegionName': 'zip_code',\n",
    "    'City': 'city', \n",
    "    'State': 'state',\n",
    "    '2017-12-31': 'home_value'\n",
    "}, inplace=True)\n",
    "zillow_data_2017.set_index('zip_code', inplace=True)\n",
    "zillow_data_2017.sort_values(by='home_value', ascending=False, inplace=True)\n",
    "zillow_data_2017.dropna(inplace=True)\n",
    "#zillow_data_2017.head()"
   ]
  },
  {
   "cell_type": "code",
   "execution_count": 96,
   "metadata": {},
   "outputs": [
    {
     "output_type": "execute_result",
     "data": {
      "text/plain": "['home_values']"
     },
     "metadata": {},
     "execution_count": 96
    }
   ],
   "source": [
    "rds_connection_string = f\"postgres:{postgres_password}@localhost:5432/home_value_db\"\n",
    "engine = create_engine(f'postgresql://{rds_connection_string}')\n",
    "engine.table_names()"
   ]
  },
  {
   "cell_type": "code",
   "execution_count": 99,
   "metadata": {},
   "outputs": [],
   "source": [
    "zillow_data_2017.to_sql(name='home_values', con=engine, if_exists='append', index=True)"
   ]
  },
  {
   "cell_type": "code",
   "execution_count": null,
   "metadata": {},
   "outputs": [],
   "source": []
  }
 ]
}