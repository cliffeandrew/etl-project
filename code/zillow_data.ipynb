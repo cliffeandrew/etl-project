{
 "metadata": {
  "language_info": {
   "codemirror_mode": {
    "name": "ipython",
    "version": 3
   },
   "file_extension": ".py",
   "mimetype": "text/x-python",
   "name": "python",
   "nbconvert_exporter": "python",
   "pygments_lexer": "ipython3",
   "version": "3.6.10-final"
  },
  "orig_nbformat": 2,
  "kernelspec": {
   "name": "python_defaultSpec_1598116221704",
   "display_name": "Python 3.6.10 64-bit ('PythonData': conda)"
  }
 },
 "nbformat": 4,
 "nbformat_minor": 2,
 "cells": [
  {
   "cell_type": "code",
   "execution_count": 26,
   "metadata": {},
   "outputs": [],
   "source": [
    "import pandas as pd\n",
    "import datetime as dt\n",
    "import sqlalchemy"
   ]
  },
  {
   "cell_type": "code",
   "execution_count": 47,
   "metadata": {},
   "outputs": [],
   "source": [
    "zillow_input_file = '../resources/Zip_zhvi_uc_sfrcondo_tier_0.33_0.67_sm_sa_mon.csv'\n",
    "zillow_data = pd.read_csv(zillow_input_file)\n",
    "#zillow_data.head()"
   ]
  },
  {
   "cell_type": "code",
   "execution_count": 84,
   "metadata": {
    "tags": []
   },
   "outputs": [
    {
     "output_type": "execute_result",
     "data": {
      "text/plain": "                   city state  2017-12-31\nzip_code                                 \n94027          Atherton    CA   5725830.0\n11962        Sagaponack    NY   4628684.0\n90210     Beverly Hills    CA   4114493.0\n33109     Fisher Island    FL   3830113.0\n2199             Boston    MA   3766383.0",
      "text/html": "<div>\n<style scoped>\n    .dataframe tbody tr th:only-of-type {\n        vertical-align: middle;\n    }\n\n    .dataframe tbody tr th {\n        vertical-align: top;\n    }\n\n    .dataframe thead th {\n        text-align: right;\n    }\n</style>\n<table border=\"1\" class=\"dataframe\">\n  <thead>\n    <tr style=\"text-align: right;\">\n      <th></th>\n      <th>city</th>\n      <th>state</th>\n      <th>2017-12-31</th>\n    </tr>\n    <tr>\n      <th>zip_code</th>\n      <th></th>\n      <th></th>\n      <th></th>\n    </tr>\n  </thead>\n  <tbody>\n    <tr>\n      <th>94027</th>\n      <td>Atherton</td>\n      <td>CA</td>\n      <td>5725830.0</td>\n    </tr>\n    <tr>\n      <th>11962</th>\n      <td>Sagaponack</td>\n      <td>NY</td>\n      <td>4628684.0</td>\n    </tr>\n    <tr>\n      <th>90210</th>\n      <td>Beverly Hills</td>\n      <td>CA</td>\n      <td>4114493.0</td>\n    </tr>\n    <tr>\n      <th>33109</th>\n      <td>Fisher Island</td>\n      <td>FL</td>\n      <td>3830113.0</td>\n    </tr>\n    <tr>\n      <th>2199</th>\n      <td>Boston</td>\n      <td>MA</td>\n      <td>3766383.0</td>\n    </tr>\n  </tbody>\n</table>\n</div>"
     },
     "metadata": {},
     "execution_count": 84
    }
   ],
   "source": [
    "column_list = ['RegionName', 'City', 'State', '2017-12-31']\n",
    "\n",
    "zillow_data_2017 = zillow_data[column_list]\n",
    "zillow_data_2017.rename(columns={\n",
    "    'RegionName': 'zip_code',\n",
    "    'City': 'city', \n",
    "    'State': 'state'\n",
    "}, inplace=True)\n",
    "zillow_data_2017.set_index('zip_code', inplace=True)\n",
    "zillow_data_2017.sort_values(by='2017-12-31', ascending=False, inplace=True)\n",
    "zillow_data_2017.dropna(inplace=True)\n",
    "#zillow_data_2017.head()"
   ]
  },
  {
   "cell_type": "code",
   "execution_count": null,
   "metadata": {},
   "outputs": [],
   "source": []
  }
 ]
}