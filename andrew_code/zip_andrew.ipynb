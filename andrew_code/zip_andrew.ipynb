{
 "cells": [
  {
   "cell_type": "code",
   "execution_count": null,
   "metadata": {},
   "outputs": [],
   "source": [
    "import pandas as pd\n",
    "from sqlalchemy import create_engine"
   ]
  },
  {
   "cell_type": "code",
   "execution_count": null,
   "metadata": {},
   "outputs": [],
   "source": [
    "from config import username\n",
    "from config import password"
   ]
  },
  {
   "cell_type": "code",
   "execution_count": null,
   "metadata": {},
   "outputs": [],
   "source": [
    "csv_file = \"Resources/17zpallagi.csv\"\n",
    "zip_df = pd.read_csv(csv_file)\n",
    "zip_df.head()"
   ]
  },
  {
   "cell_type": "code",
   "execution_count": null,
   "metadata": {},
   "outputs": [],
   "source": [
    "new_zip_col = [\"STATE\",\"zipcode\",\"agi_stub\",\"N1\",\"mars1\",\"MARS2\",\"MARS4\",\"A00100\",\"A02650\",\"A00200\",\"N02300\",\"A02300\"]"
   ]
  },
  {
   "cell_type": "code",
   "execution_count": null,
   "metadata": {
    "scrolled": true
   },
   "outputs": [],
   "source": [
    "new_zip_df = zip_df[new_zip_col].copy()\n",
    "new_zip_df.head()"
   ]
  },
  {
   "cell_type": "code",
   "execution_count": null,
   "metadata": {
    "scrolled": false
   },
   "outputs": [],
   "source": [
    "new_zip_transformed_df = new_zip_df.rename(columns={\"STATE\":\"state\",\"N1\":\"number_of_returns\",\"mars1\":\"number_of_single_returns\",\"MARS2\":\"number_of_joint_returns\",\"MARS4\":\"number_of_head_of_household_returns\",\"A00100\":\"adjusted_gross_income\",\"A02650\":\"total_income_amount\",\"A00200\":\"salaries_and_wages_amount\",\"N02300\":\"number_of_returns_with_unemployment_compensation\",\"A02300\":\"unemployment_compensation_amount\"})\n",
    "new_zip_transformed_df.head()"
   ]
  },
  {
   "cell_type": "code",
   "execution_count": null,
   "metadata": {},
   "outputs": [],
   "source": [
    "new_zip_transformed_df = new_zip_transformed_df[new_zip_transformed_df[\"zipcode\"]!=0]\n",
    "new_zip_transformed_df.head()"
   ]
  },
  {
   "cell_type": "code",
   "execution_count": null,
   "metadata": {},
   "outputs": [],
   "source": [
    "new_zip_transformed_df.drop_duplicates(subset=['zipcode','agi_stub'])\n",
    "new_zip_transformed_df.head()"
   ]
  },
  {
   "cell_type": "code",
   "execution_count": null,
   "metadata": {},
   "outputs": [],
   "source": [
    "connection_string = f\"{username}:{password}@localhost:5432/etl-project\"\n",
    "engine = create_engine(f'postgresql://{connection_string}')"
   ]
  },
  {
   "cell_type": "code",
   "execution_count": null,
   "metadata": {},
   "outputs": [],
   "source": [
    "engine.table_names()"
   ]
  },
  {
   "cell_type": "code",
   "execution_count": null,
   "metadata": {},
   "outputs": [],
   "source": [
    "#results = engine.execute(\"select * from zip_andrew\")\n",
    "\n",
    "#for result in results:\n",
    "#    print(result)"
   ]
  },
  {
   "cell_type": "code",
   "execution_count": null,
   "metadata": {},
   "outputs": [],
   "source": [
    "new_zip_transformed_df.to_sql(name='zip_andrew', con=engine, if_exists='append', index=False)"
   ]
  },
  {
   "cell_type": "code",
   "execution_count": null,
   "metadata": {},
   "outputs": [],
   "source": [
    "results = engine.execute(\"select * from zip_andrew\")\n",
    "\n",
    "for result in results:\n",
    "    print(result)"
   ]
  },
  {
   "cell_type": "code",
   "execution_count": null,
   "metadata": {},
   "outputs": [],
   "source": []
  }
 ],
 "metadata": {
  "kernelspec": {
   "display_name": "Python 3.6.10 64-bit ('PythonData': conda)",
   "language": "python",
   "name": "python361064bitpythondataconda22b9033498814472bf281a4c68ca027c"
  },
  "language_info": {
   "codemirror_mode": {
    "name": "ipython",
    "version": 3
   },
   "file_extension": ".py",
   "mimetype": "text/x-python",
   "name": "python",
   "nbconvert_exporter": "python",
   "pygments_lexer": "ipython3",
   "version": "3.6.10"
  }
 },
 "nbformat": 4,
 "nbformat_minor": 4
}
